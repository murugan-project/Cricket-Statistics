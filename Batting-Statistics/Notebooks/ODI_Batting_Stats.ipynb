{
 "cells": [
  {
   "cell_type": "code",
   "execution_count": 1,
   "metadata": {},
   "outputs": [],
   "source": [
    "from urllib import request\n",
    "from bs4 import BeautifulSoup\n",
    "import pandas as pd\n",
    "import re"
   ]
  },
  {
   "cell_type": "code",
   "execution_count": 2,
   "metadata": {},
   "outputs": [],
   "source": [
    "def getData(url):\n",
    "    link = url\n",
    "    html_page = request.urlopen(link);\n",
    "    soup = BeautifulSoup(html_page,'lxml')\n",
    "    table = soup.find_all('table',class_=\"engineTable\")\n",
    "    data = table[2].get_text()\n",
    "    #Rough cleaning to store as an excel file\n",
    "    clean_data = re.sub('(\\\\n)',',',data)\n",
    "    clean_data = re.sub('(,,,,|,,,|,,)',' \\n ',clean_data)\n",
    "    clean_data = re.sub(',',' \\t ',clean_data)\n",
    "    with open('ODI_BStats.xslx','a') as f:\n",
    "        f.write(clean_data)\n",
    "    print(\"Successfully got the data.\")"
   ]
  },
  {
   "cell_type": "code",
   "execution_count": 3,
   "metadata": {},
   "outputs": [],
   "source": [
    "#Url\n",
    "url = \"http://stats.espncricinfo.com/ci/engine/stats/index.html?class=2;page={};template=results;type=batting\""
   ]
  },
  {
   "cell_type": "code",
   "execution_count": 4,
   "metadata": {},
   "outputs": [
    {
     "name": "stdout",
     "output_type": "stream",
     "text": [
      "Successfully got the data.\n",
      "Successfully got the data.\n"
     ]
    }
   ],
   "source": [
    "#The above url contains 52 pages of data.\n",
    "# Using only 2 pages for testing \n",
    "for i in range(1,3):\n",
    "    getData(url.format(i))"
   ]
  },
  {
   "cell_type": "code",
   "execution_count": 5,
   "metadata": {},
   "outputs": [],
   "source": [
    "df = pd.read_csv('ODI_BStats.xslx',sep='\\t')"
   ]
  },
  {
   "cell_type": "code",
   "execution_count": 23,
   "metadata": {},
   "outputs": [
    {
     "data": {
      "text/html": [
       "<div>\n",
       "<style scoped>\n",
       "    .dataframe tbody tr th:only-of-type {\n",
       "        vertical-align: middle;\n",
       "    }\n",
       "\n",
       "    .dataframe tbody tr th {\n",
       "        vertical-align: top;\n",
       "    }\n",
       "\n",
       "    .dataframe thead th {\n",
       "        text-align: right;\n",
       "    }\n",
       "</style>\n",
       "<table border=\"1\" class=\"dataframe\">\n",
       "  <thead>\n",
       "    <tr style=\"text-align: right;\">\n",
       "      <th></th>\n",
       "      <th>Player</th>\n",
       "      <th>Span</th>\n",
       "      <th>Matches</th>\n",
       "      <th>Innings</th>\n",
       "      <th>Not-Outs</th>\n",
       "      <th>Runs</th>\n",
       "      <th>Highest-Score</th>\n",
       "      <th>Avg.</th>\n",
       "      <th>Balls-Faced</th>\n",
       "      <th>Strike-Rate</th>\n",
       "      <th>100's</th>\n",
       "      <th>50's</th>\n",
       "      <th>Ducks</th>\n",
       "    </tr>\n",
       "  </thead>\n",
       "  <tbody>\n",
       "    <tr>\n",
       "      <th>0</th>\n",
       "      <td>SR Tendulkar (INDIA)</td>\n",
       "      <td>1989-2012</td>\n",
       "      <td>463.0</td>\n",
       "      <td>452.0</td>\n",
       "      <td>41.0</td>\n",
       "      <td>18426.0</td>\n",
       "      <td>200*</td>\n",
       "      <td>44.83</td>\n",
       "      <td>21367.0</td>\n",
       "      <td>86.23</td>\n",
       "      <td>49.0</td>\n",
       "      <td>96.0</td>\n",
       "      <td>20.0</td>\n",
       "    </tr>\n",
       "    <tr>\n",
       "      <th>1</th>\n",
       "      <td>KC Sangakkara (Asia/ICC/SL)</td>\n",
       "      <td>2000-2015</td>\n",
       "      <td>404.0</td>\n",
       "      <td>380.0</td>\n",
       "      <td>41.0</td>\n",
       "      <td>14234.0</td>\n",
       "      <td>169</td>\n",
       "      <td>41.98</td>\n",
       "      <td>18048.0</td>\n",
       "      <td>78.86</td>\n",
       "      <td>25.0</td>\n",
       "      <td>93.0</td>\n",
       "      <td>15.0</td>\n",
       "    </tr>\n",
       "    <tr>\n",
       "      <th>2</th>\n",
       "      <td>RT Ponting (AUS/ICC)</td>\n",
       "      <td>1995-2012</td>\n",
       "      <td>375.0</td>\n",
       "      <td>365.0</td>\n",
       "      <td>39.0</td>\n",
       "      <td>13704.0</td>\n",
       "      <td>164</td>\n",
       "      <td>42.03</td>\n",
       "      <td>17046.0</td>\n",
       "      <td>80.39</td>\n",
       "      <td>30.0</td>\n",
       "      <td>82.0</td>\n",
       "      <td>20.0</td>\n",
       "    </tr>\n",
       "    <tr>\n",
       "      <th>3</th>\n",
       "      <td>ST Jayasuriya (Asia/SL)</td>\n",
       "      <td>1989-2011</td>\n",
       "      <td>445.0</td>\n",
       "      <td>433.0</td>\n",
       "      <td>18.0</td>\n",
       "      <td>13430.0</td>\n",
       "      <td>189</td>\n",
       "      <td>32.36</td>\n",
       "      <td>14725.0</td>\n",
       "      <td>91.20</td>\n",
       "      <td>28.0</td>\n",
       "      <td>68.0</td>\n",
       "      <td>34.0</td>\n",
       "    </tr>\n",
       "    <tr>\n",
       "      <th>4</th>\n",
       "      <td>DPMD Jayawardene (Asia/SL)</td>\n",
       "      <td>1998-2015</td>\n",
       "      <td>448.0</td>\n",
       "      <td>418.0</td>\n",
       "      <td>39.0</td>\n",
       "      <td>12650.0</td>\n",
       "      <td>144</td>\n",
       "      <td>33.37</td>\n",
       "      <td>16020.0</td>\n",
       "      <td>78.96</td>\n",
       "      <td>19.0</td>\n",
       "      <td>77.0</td>\n",
       "      <td>28.0</td>\n",
       "    </tr>\n",
       "  </tbody>\n",
       "</table>\n",
       "</div>"
      ],
      "text/plain": [
       "                          Player         Span  Matches  Innings  Not-Outs  \\\n",
       "0          SR Tendulkar (INDIA)    1989-2012     463.0    452.0      41.0   \n",
       "1   KC Sangakkara (Asia/ICC/SL)    2000-2015     404.0    380.0      41.0   \n",
       "2          RT Ponting (AUS/ICC)    1995-2012     375.0    365.0      39.0   \n",
       "3       ST Jayasuriya (Asia/SL)    1989-2011     445.0    433.0      18.0   \n",
       "4    DPMD Jayawardene (Asia/SL)    1998-2015     448.0    418.0      39.0   \n",
       "\n",
       "      Runs Highest-Score   Avg.  Balls-Faced  Strike-Rate  100's  50's  Ducks  \n",
       "0  18426.0         200*   44.83      21367.0        86.23   49.0  96.0   20.0  \n",
       "1  14234.0          169   41.98      18048.0        78.86   25.0  93.0   15.0  \n",
       "2  13704.0          164   42.03      17046.0        80.39   30.0  82.0   20.0  \n",
       "3  13430.0          189   32.36      14725.0        91.20   28.0  68.0   34.0  \n",
       "4  12650.0          144   33.37      16020.0        78.96   19.0  77.0   28.0  "
      ]
     },
     "execution_count": 23,
     "metadata": {},
     "output_type": "execute_result"
    }
   ],
   "source": [
    "df.head() #After proper cleaning of data"
   ]
  },
  {
   "cell_type": "code",
   "execution_count": 10,
   "metadata": {},
   "outputs": [],
   "source": [
    "# Change the column names.\n",
    "df.set_axis(['Player','Span','Matches','Innings','Not-Outs','Runs','Highest-Score','Avg.','Balls-Faced','Strike-Rate','100\\'s','50\\'s','Ducks'],axis=1,inplace=True)"
   ]
  },
  {
   "cell_type": "code",
   "execution_count": 22,
   "metadata": {},
   "outputs": [
    {
     "data": {
      "text/plain": [
       "Player           100\n",
       "Span             100\n",
       "Matches          100\n",
       "Innings          100\n",
       "Not-Outs         100\n",
       "Runs             100\n",
       "Highest-Score    100\n",
       "Avg.             100\n",
       "Balls-Faced      100\n",
       "Strike-Rate      100\n",
       "100's            100\n",
       "50's             100\n",
       "Ducks            100\n",
       "dtype: int64"
      ]
     },
     "execution_count": 22,
     "metadata": {},
     "output_type": "execute_result"
    }
   ],
   "source": [
    "df.count()"
   ]
  },
  {
   "cell_type": "code",
   "execution_count": 13,
   "metadata": {},
   "outputs": [],
   "source": [
    "# Deleting the cells with NAN values in the mentioned columns.\n",
    "df = df.dropna(subset=['Span'])\n",
    "df = df.dropna(subset=['Matches'])"
   ]
  },
  {
   "cell_type": "code",
   "execution_count": 17,
   "metadata": {},
   "outputs": [
    {
     "data": {
      "text/plain": [
       "Player            object\n",
       "Span              object\n",
       "Matches          float64\n",
       "Innings          float64\n",
       "Not-Outs         float64\n",
       "Runs             float64\n",
       "Highest-Score     object\n",
       "Avg.             float64\n",
       "Balls-Faced      float64\n",
       "Strike-Rate      float64\n",
       "100's            float64\n",
       "50's             float64\n",
       "Ducks            float64\n",
       "dtype: object"
      ]
     },
     "execution_count": 17,
     "metadata": {},
     "output_type": "execute_result"
    }
   ],
   "source": [
    "df.dtypes"
   ]
  },
  {
   "cell_type": "code",
   "execution_count": 16,
   "metadata": {},
   "outputs": [],
   "source": [
    "df[\"Matches\"] = pd.to_numeric(df['Matches'], errors='coerce')\n",
    "df[\"Innings\"] = pd.to_numeric(df['Innings'], errors='coerce')\n",
    "df[\"Not-Outs\"] = pd.to_numeric(df['Not-Outs'], errors='coerce')\n",
    "df[\"Runs\"] = pd.to_numeric(df['Runs'], errors='coerce')\n",
    "df[\"Avg.\"] = pd.to_numeric(df['Avg.'], errors='coerce')\n",
    "df[\"Balls-Faced\"] = pd.to_numeric(df['Balls-Faced'], errors='coerce')\n",
    "df[\"Strike-Rate\"] = pd.to_numeric(df['Strike-Rate'], errors='coerce')"
   ]
  },
  {
   "cell_type": "code",
   "execution_count": 19,
   "metadata": {},
   "outputs": [],
   "source": [
    "df.reset_index(drop=True,inplace=True)\n",
    "df.drop(df[df.Player == ' Player '].index,inplace=True)"
   ]
  },
  {
   "cell_type": "code",
   "execution_count": 21,
   "metadata": {},
   "outputs": [],
   "source": [
    "df.to_excel('ODI_BData.xlsx')"
   ]
  },
  {
   "cell_type": "code",
   "execution_count": null,
   "metadata": {},
   "outputs": [],
   "source": []
  }
 ],
 "metadata": {
  "kernelspec": {
   "display_name": "Python 3",
   "language": "python",
   "name": "python3"
  },
  "language_info": {
   "codemirror_mode": {
    "name": "ipython",
    "version": 3
   },
   "file_extension": ".py",
   "mimetype": "text/x-python",
   "name": "python",
   "nbconvert_exporter": "python",
   "pygments_lexer": "ipython3",
   "version": "3.7.1"
  }
 },
 "nbformat": 4,
 "nbformat_minor": 2
}
